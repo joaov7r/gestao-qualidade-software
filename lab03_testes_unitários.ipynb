{
  "nbformat": 4,
  "nbformat_minor": 0,
  "metadata": {
    "colab": {
      "provenance": [],
      "authorship_tag": "ABX9TyPQG0FXj7KBB663Aoldk/uT"
    },
    "kernelspec": {
      "name": "python3",
      "display_name": "Python 3"
    },
    "language_info": {
      "name": "python"
    }
  },
  "cells": [
    {
      "cell_type": "code",
      "source": [
        "def is_par(n):\n",
        "    return n % 2 == 0"
      ],
      "metadata": {
        "id": "-ta4VjHTUtrb"
      },
      "execution_count": 4,
      "outputs": []
    },
    {
      "cell_type": "code",
      "source": [
        "import unittest\n",
        "\n",
        "class TestIsPar(unittest.TestCase):\n",
        "    def test_numero_par(self):\n",
        "        self.assertTrue(is_par(4))   # número par\n",
        "\n",
        "    def test_numero_impar(self):\n",
        "        self.assertFalse(is_par(7))  # número ímpar\n",
        "\n",
        "    def test_zero(self):\n",
        "        self.assertTrue(is_par(0))   # zero é par\n",
        "\n",
        "    def test_negativo(self):\n",
        "        self.assertTrue(is_par(-6))  # número negativo par"
      ],
      "metadata": {
        "id": "fShvDV6_U8fF"
      },
      "execution_count": 5,
      "outputs": []
    },
    {
      "cell_type": "code",
      "source": [
        "unittest.main(argv=[''], exit=False)"
      ],
      "metadata": {
        "colab": {
          "base_uri": "https://localhost:8080/"
        },
        "id": "RmvAZVIhVjxx",
        "outputId": "92a2370b-1fda-402a-b156-916cf8ba6f8d"
      },
      "execution_count": 6,
      "outputs": [
        {
          "output_type": "stream",
          "name": "stderr",
          "text": [
            "....\n",
            "----------------------------------------------------------------------\n",
            "Ran 4 tests in 0.004s\n",
            "\n",
            "OK\n"
          ]
        },
        {
          "output_type": "execute_result",
          "data": {
            "text/plain": [
              "<unittest.main.TestProgram at 0x7a91ddf9a240>"
            ]
          },
          "metadata": {},
          "execution_count": 6
        }
      ]
    }
  ]
}