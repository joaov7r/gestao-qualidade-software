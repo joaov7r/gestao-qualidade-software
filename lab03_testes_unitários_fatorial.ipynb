{
  "nbformat": 4,
  "nbformat_minor": 0,
  "metadata": {
    "colab": {
      "provenance": [],
      "authorship_tag": "ABX9TyMYTe/31aSRKcWR6Z5ct2VT",
      "include_colab_link": true
    },
    "kernelspec": {
      "name": "python3",
      "display_name": "Python 3"
    },
    "language_info": {
      "name": "python"
    }
  },
  "cells": [
    {
      "cell_type": "markdown",
      "metadata": {
        "id": "view-in-github",
        "colab_type": "text"
      },
      "source": [
        "<a href=\"https://colab.research.google.com/github/joaov7r/gestao-qualidade-software/blob/main/lab03_testes_unit%C3%A1rios_fatorial.ipynb\" target=\"_parent\"><img src=\"https://colab.research.google.com/assets/colab-badge.svg\" alt=\"Open In Colab\"/></a>"
      ]
    },
    {
      "cell_type": "code",
      "source": [
        "def fatorial(n: int) -> int:\n",
        "    if n < 0:\n",
        "        raise ValueError(\"n deve ser >= 0\")\n",
        "    if n == 0:\n",
        "        return 1\n",
        "\n",
        "    resultado = 1\n",
        "    for i in range(1, n + 1):\n",
        "        resultado *= i\n",
        "    return resultado"
      ],
      "metadata": {
        "id": "NFCp0VeoXUwt"
      },
      "execution_count": 7,
      "outputs": []
    },
    {
      "cell_type": "code",
      "source": [
        "import unittest\n",
        "\n",
        "class TestFatorial(unittest.TestCase):\n",
        "\n",
        "    def test_fatorial_zero(self):\n",
        "        self.assertEqual(fatorial(0), 1)  # 0! = 1\n",
        "\n",
        "    def test_fatorial_cinco(self):\n",
        "        self.assertEqual(fatorial(5), 120)  # 5! = 120\n",
        "\n",
        "    def test_fatorial_negativo(self):\n",
        "        with self.assertRaises(ValueError):\n",
        "            fatorial(-1)  # lançar erro"
      ],
      "metadata": {
        "id": "5i05i9VGXYmK"
      },
      "execution_count": 8,
      "outputs": []
    },
    {
      "cell_type": "code",
      "source": [
        "unittest.main(argv=[''], exit=False)"
      ],
      "metadata": {
        "colab": {
          "base_uri": "https://localhost:8080/"
        },
        "id": "pk4B6HYiXdG7",
        "outputId": "4e94b42f-2206-49a7-df20-fd5673605508"
      },
      "execution_count": 9,
      "outputs": [
        {
          "output_type": "stream",
          "name": "stderr",
          "text": [
            ".......\n",
            "----------------------------------------------------------------------\n",
            "Ran 7 tests in 0.007s\n",
            "\n",
            "OK\n"
          ]
        },
        {
          "output_type": "execute_result",
          "data": {
            "text/plain": [
              "<unittest.main.TestProgram at 0x7a91de012240>"
            ]
          },
          "metadata": {},
          "execution_count": 9
        }
      ]
    }
  ]
}