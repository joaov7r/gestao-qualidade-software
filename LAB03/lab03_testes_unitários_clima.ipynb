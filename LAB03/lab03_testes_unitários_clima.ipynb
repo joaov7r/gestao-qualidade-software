{
  "nbformat": 4,
  "nbformat_minor": 0,
  "metadata": {
    "colab": {
      "provenance": [],
      "authorship_tag": "ABX9TyM/LOkXLUeGnbTmiroAEPEv"
    },
    "kernelspec": {
      "name": "python3",
      "display_name": "Python 3"
    },
    "language_info": {
      "name": "python"
    }
  },
  "cells": [
    {
      "cell_type": "code",
      "source": [
        "import requests\n",
        "\n",
        "def buscar_clima(cidade: str) -> float:\n",
        "    \"\"\"Busca temperatura de uma cidade na API fictícia\"\"\"\n",
        "    try:\n",
        "        resp = requests.get(f\"https://api.exemplo/clima?cidade={cidade}\")\n",
        "        dados = resp.json()\n",
        "        if \"temperatura\" not in dados:\n",
        "            raise ValueError(\"Resposta inválida: temperatura ausente\")\n",
        "        return dados[\"temperatura\"]\n",
        "    except requests.RequestException as e:\n",
        "        raise ConnectionError(f\"Erro de conexão: {e}\")"
      ],
      "metadata": {
        "id": "JMLbmuG8YwCo"
      },
      "execution_count": 13,
      "outputs": []
    },
    {
      "cell_type": "code",
      "source": [
        "import unittest\n",
        "from unittest.mock import patch, MagicMock\n",
        "\n",
        "class TestBuscarClima(unittest.TestCase):\n",
        "\n",
        "    @patch(\"requests.get\")\n",
        "    def test_retorna_temperatura(self, mock_get):\n",
        "        # Simula resposta da API\n",
        "        mock_resp = MagicMock()\n",
        "        mock_resp.json.return_value = {\"temperatura\": 25}\n",
        "        mock_get.return_value = mock_resp\n",
        "\n",
        "        temp = buscar_clima(\"São Paulo\")\n",
        "        self.assertEqual(temp, 25)\n",
        "        mock_get.assert_called_once_with(\"https://api.exemplo/clima?cidade=São Paulo\")\n",
        "\n",
        "    @patch(\"requests.get\")\n",
        "    def test_resposta_sem_temperatura(self, mock_get):\n",
        "        # Simula resposta inválida\n",
        "        mock_resp = MagicMock()\n",
        "        mock_resp.json.return_value = {\"umidade\": 80}\n",
        "        mock_get.return_value = mock_resp\n",
        "\n",
        "        with self.assertRaises(ValueError):\n",
        "            buscar_clima(\"Rio de Janeiro\")\n",
        "\n",
        "    @patch(\"requests.get\")\n",
        "    def test_excecao_conexao(self, mock_get):\n",
        "        # Simula erro de conexão\n",
        "        mock_get.side_effect = requests.RequestException(\"timeout\")\n",
        "\n",
        "        with self.assertRaises(ConnectionError):\n",
        "            buscar_clima(\"Curitiba\")"
      ],
      "metadata": {
        "id": "17DFr7Z9Y0TS"
      },
      "execution_count": 14,
      "outputs": []
    },
    {
      "cell_type": "code",
      "source": [
        "unittest.main(argv=[''], exit=False)"
      ],
      "metadata": {
        "colab": {
          "base_uri": "https://localhost:8080/"
        },
        "id": "s4FxZ4qnY4eO",
        "outputId": "476befe9-678d-46bd-b832-dffca5c1546a"
      },
      "execution_count": 15,
      "outputs": [
        {
          "output_type": "stream",
          "name": "stderr",
          "text": [
            "...............\n",
            "----------------------------------------------------------------------\n",
            "Ran 15 tests in 0.021s\n",
            "\n",
            "OK\n"
          ]
        },
        {
          "output_type": "execute_result",
          "data": {
            "text/plain": [
              "<unittest.main.TestProgram at 0x7a91dd3413d0>"
            ]
          },
          "metadata": {},
          "execution_count": 15
        }
      ]
    }
  ]
}
