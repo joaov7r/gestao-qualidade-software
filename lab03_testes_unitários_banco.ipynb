{
  "nbformat": 4,
  "nbformat_minor": 0,
  "metadata": {
    "colab": {
      "provenance": [],
      "authorship_tag": "ABX9TyNxwJBS19Vl/Sa/FAnIaOkd"
    },
    "kernelspec": {
      "name": "python3",
      "display_name": "Python 3"
    },
    "language_info": {
      "name": "python"
    }
  },
  "cells": [
    {
      "cell_type": "code",
      "source": [
        "class InsufficientFunds(Exception):\n",
        "    \"\"\"Exceção para saldo insuficiente\"\"\"\n",
        "    pass\n",
        "\n",
        "\n",
        "class Conta:\n",
        "    def __init__(self, saldo_inicial=0):\n",
        "        if saldo_inicial < 0:\n",
        "            raise ValueError(\"Saldo inicial não pode ser negativo\")\n",
        "        self.saldo = saldo_inicial\n",
        "\n",
        "    def depositar(self, amount):\n",
        "        if amount < 0:\n",
        "            raise ValueError(\"Depósito não pode ser negativo\")\n",
        "        self.saldo += amount\n",
        "\n",
        "    def sacar(self, amount):\n",
        "        if amount < 0:\n",
        "            raise ValueError(\"Saque não pode ser negativo\")\n",
        "        if amount > self.saldo:\n",
        "            raise InsufficientFunds(\"Saldo insuficiente\")\n",
        "        self.saldo -= amount"
      ],
      "metadata": {
        "id": "04Y3J2f1X-BU"
      },
      "execution_count": 10,
      "outputs": []
    },
    {
      "cell_type": "code",
      "source": [
        "import unittest\n",
        "\n",
        "class TestConta(unittest.TestCase):\n",
        "\n",
        "    def test_deposito(self):\n",
        "        conta = Conta()\n",
        "        conta.depositar(100)\n",
        "        self.assertEqual(conta.saldo, 100)\n",
        "\n",
        "    def test_saque_com_sucesso(self):\n",
        "        conta = Conta(200)\n",
        "        conta.sacar(50)\n",
        "        self.assertEqual(conta.saldo, 150)\n",
        "\n",
        "    def test_saque_insuficiente(self):\n",
        "        conta = Conta(100)\n",
        "        with self.assertRaises(InsufficientFunds):\n",
        "            conta.sacar(200)\n",
        "\n",
        "    def test_deposito_invalido(self):\n",
        "        conta = Conta()\n",
        "        with self.assertRaises(ValueError):\n",
        "            conta.depositar(-50)\n",
        "\n",
        "    def test_saque_invalido(self):\n",
        "        conta = Conta(100)\n",
        "        with self.assertRaises(ValueError):\n",
        "            conta.sacar(-10)"
      ],
      "metadata": {
        "id": "FZPOdgtQYA_T"
      },
      "execution_count": 11,
      "outputs": []
    },
    {
      "cell_type": "code",
      "source": [
        "unittest.main(argv=[''], exit=False)"
      ],
      "metadata": {
        "colab": {
          "base_uri": "https://localhost:8080/"
        },
        "id": "qYSQf4j8YEAi",
        "outputId": "9861e8e4-29e0-49e8-dd95-45ce84c1c17c"
      },
      "execution_count": 12,
      "outputs": [
        {
          "output_type": "stream",
          "name": "stderr",
          "text": [
            "............\n",
            "----------------------------------------------------------------------\n",
            "Ran 12 tests in 0.012s\n",
            "\n",
            "OK\n"
          ]
        },
        {
          "output_type": "execute_result",
          "data": {
            "text/plain": [
              "<unittest.main.TestProgram at 0x7a91de013d40>"
            ]
          },
          "metadata": {},
          "execution_count": 12
        }
      ]
    }
  ]
}